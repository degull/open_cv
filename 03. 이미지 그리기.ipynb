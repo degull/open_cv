{
 "cells": [
  {
   "cell_type": "code",
   "execution_count": 43,
   "id": "c5610102-03c8-4fa0-89d5-bac6a546efc6",
   "metadata": {},
   "outputs": [],
   "source": [
    "import cv2"
   ]
  },
  {
   "cell_type": "code",
   "execution_count": 44,
   "id": "4be0c1e1-0611-4bdc-a9a9-89d856732f5b",
   "metadata": {},
   "outputs": [
    {
     "name": "stdout",
     "output_type": "stream",
     "text": [
      "4.9.0\n"
     ]
    }
   ],
   "source": [
    "print(cv2.__version__)"
   ]
  },
  {
   "cell_type": "code",
   "execution_count": 45,
   "id": "fd689f30-6ccc-4f47-b23c-45a3899761b6",
   "metadata": {},
   "outputs": [],
   "source": [
    "img = cv2.imread(\"nomadProgramerIcon.png\")"
   ]
  },
  {
   "cell_type": "code",
   "execution_count": 46,
   "id": "7d7ec605-b882-4bc3-abb9-2063ce6a0b14",
   "metadata": {},
   "outputs": [
    {
     "name": "stdout",
     "output_type": "stream",
     "text": [
      "width: 653 pixels\n",
      "height: 653 pixels\n",
      "channels: 3 \n"
     ]
    }
   ],
   "source": [
    "print(\"width: {} pixels\".format(img.shape[1]))\n",
    "print(\"height: {} pixels\".format(img.shape[0]))\n",
    "print(\"channels: {} \".format(img.shape[2]))"
   ]
  },
  {
   "cell_type": "code",
   "execution_count": 47,
   "id": "d7265f67-4418-4f50-a8d7-561c8943415c",
   "metadata": {},
   "outputs": [],
   "source": [
    "cv2.imshow(\"nomadProgramer\", img)"
   ]
  },
  {
   "cell_type": "code",
   "execution_count": 48,
   "id": "1b465a7b-6fcc-486a-bb3e-9560a40640e6",
   "metadata": {},
   "outputs": [
    {
     "name": "stdout",
     "output_type": "stream",
     "text": [
      "Pixel at (0,0) - Red : 235, Green : 250 , Blue : 247\n"
     ]
    }
   ],
   "source": [
    "(b,g,r ) = img[0, 0]\n",
    "print(\"Pixel at (0,0) - Red : {}, Green : {} , Blue : {}\".format(r,g,b))"
   ]
  },
  {
   "cell_type": "code",
   "execution_count": 49,
   "id": "04d5dab2-4aad-47ea-9323-974766ae25a5",
   "metadata": {},
   "outputs": [],
   "source": [
    "dot = img[50:100, 50:100]  #가로&세로\n",
    "# cv2.imshow(\"Dot\", dot) #외부 실행"
   ]
  },
  {
   "cell_type": "code",
   "execution_count": 50,
   "id": "7142f3ea-b658-4801-80e0-179e24620a1b",
   "metadata": {},
   "outputs": [
    {
     "data": {
      "text/plain": [
       "array([[[247, 250, 235],\n",
       "        [236, 244, 237],\n",
       "        [232, 245, 237],\n",
       "        ...,\n",
       "        [116,  80,  20],\n",
       "        [ 90,  54,   0],\n",
       "        [100,  57,   0]],\n",
       "\n",
       "       [[232, 238, 249],\n",
       "        [227, 233, 244],\n",
       "        [232, 236, 241],\n",
       "        ...,\n",
       "        [148, 101,  19],\n",
       "        [117,  70,   0],\n",
       "        [120,  71,   0]],\n",
       "\n",
       "       [[213, 219, 230],\n",
       "        [216, 222, 233],\n",
       "        [205, 209, 214],\n",
       "        ...,\n",
       "        [161, 114,  32],\n",
       "        [127,  80,   0],\n",
       "        [126,  77,   0]],\n",
       "\n",
       "       ...,\n",
       "\n",
       "       [[ 25,  74, 118],\n",
       "        [ 30,  79, 123],\n",
       "        [ 28,  78, 124],\n",
       "        ...,\n",
       "        [  1,   5,  10],\n",
       "        [  2,   4,  14],\n",
       "        [  0,   5,  12]],\n",
       "\n",
       "       [[ 24,  73, 117],\n",
       "        [ 29,  78, 122],\n",
       "        [ 28,  78, 124],\n",
       "        ...,\n",
       "        [  0,   3,  10],\n",
       "        [  0,   6,  13],\n",
       "        [  0,   6,  13]],\n",
       "\n",
       "       [[ 24,  73, 117],\n",
       "        [ 30,  79, 123],\n",
       "        [ 26,  76, 122],\n",
       "        ...,\n",
       "        [  0,   0,   6],\n",
       "        [  0,   4,  11],\n",
       "        [  0,   5,  12]]], dtype=uint8)"
      ]
     },
     "execution_count": 50,
     "metadata": {},
     "output_type": "execute_result"
    }
   ],
   "source": [
    "cv2.rectangle(img, (150,50), (200, 100), (0,255,0), 5 )  # 시작점(150,50),끝점(200,100), 색(초), 선 굵기\n",
    "# 시작점 - 가로(150)&세로(50) , 끝점 - 가로 (200)&세로(100)"
   ]
  },
  {
   "cell_type": "code",
   "execution_count": 51,
   "id": "20d2a263-697a-42f5-aaf1-638622c860aa",
   "metadata": {},
   "outputs": [
    {
     "data": {
      "text/plain": [
       "array([[[247, 250, 235],\n",
       "        [236, 244, 237],\n",
       "        [232, 245, 237],\n",
       "        ...,\n",
       "        [116,  80,  20],\n",
       "        [ 90,  54,   0],\n",
       "        [100,  57,   0]],\n",
       "\n",
       "       [[232, 238, 249],\n",
       "        [227, 233, 244],\n",
       "        [232, 236, 241],\n",
       "        ...,\n",
       "        [148, 101,  19],\n",
       "        [117,  70,   0],\n",
       "        [120,  71,   0]],\n",
       "\n",
       "       [[213, 219, 230],\n",
       "        [216, 222, 233],\n",
       "        [205, 209, 214],\n",
       "        ...,\n",
       "        [161, 114,  32],\n",
       "        [127,  80,   0],\n",
       "        [126,  77,   0]],\n",
       "\n",
       "       ...,\n",
       "\n",
       "       [[ 25,  74, 118],\n",
       "        [ 30,  79, 123],\n",
       "        [ 28,  78, 124],\n",
       "        ...,\n",
       "        [  1,   5,  10],\n",
       "        [  2,   4,  14],\n",
       "        [  0,   5,  12]],\n",
       "\n",
       "       [[ 24,  73, 117],\n",
       "        [ 29,  78, 122],\n",
       "        [ 28,  78, 124],\n",
       "        ...,\n",
       "        [  0,   3,  10],\n",
       "        [  0,   6,  13],\n",
       "        [  0,   6,  13]],\n",
       "\n",
       "       [[ 24,  73, 117],\n",
       "        [ 30,  79, 123],\n",
       "        [ 26,  76, 122],\n",
       "        ...,\n",
       "        [  0,   0,   6],\n",
       "        [  0,   4,  11],\n",
       "        [  0,   5,  12]]], dtype=uint8)"
      ]
     },
     "execution_count": 51,
     "metadata": {},
     "output_type": "execute_result"
    }
   ],
   "source": [
    "cv2.circle(img, (275,75), 25, (0, 255, 255), -1)\n",
    "# 위치(275,75), 반지름(25), 색상(노), 전체 채우기 "
   ]
  },
  {
   "cell_type": "code",
   "execution_count": 52,
   "id": "0da70da5-3800-445a-b48a-3dc36a2fde0f",
   "metadata": {},
   "outputs": [
    {
     "data": {
      "text/plain": [
       "array([[[247, 250, 235],\n",
       "        [236, 244, 237],\n",
       "        [232, 245, 237],\n",
       "        ...,\n",
       "        [116,  80,  20],\n",
       "        [ 90,  54,   0],\n",
       "        [100,  57,   0]],\n",
       "\n",
       "       [[232, 238, 249],\n",
       "        [227, 233, 244],\n",
       "        [232, 236, 241],\n",
       "        ...,\n",
       "        [148, 101,  19],\n",
       "        [117,  70,   0],\n",
       "        [120,  71,   0]],\n",
       "\n",
       "       [[213, 219, 230],\n",
       "        [216, 222, 233],\n",
       "        [205, 209, 214],\n",
       "        ...,\n",
       "        [161, 114,  32],\n",
       "        [127,  80,   0],\n",
       "        [126,  77,   0]],\n",
       "\n",
       "       ...,\n",
       "\n",
       "       [[ 25,  74, 118],\n",
       "        [ 30,  79, 123],\n",
       "        [ 28,  78, 124],\n",
       "        ...,\n",
       "        [  1,   5,  10],\n",
       "        [  2,   4,  14],\n",
       "        [  0,   5,  12]],\n",
       "\n",
       "       [[ 24,  73, 117],\n",
       "        [ 29,  78, 122],\n",
       "        [ 28,  78, 124],\n",
       "        ...,\n",
       "        [  0,   3,  10],\n",
       "        [  0,   6,  13],\n",
       "        [  0,   6,  13]],\n",
       "\n",
       "       [[ 24,  73, 117],\n",
       "        [ 30,  79, 123],\n",
       "        [ 26,  76, 122],\n",
       "        ...,\n",
       "        [  0,   0,   6],\n",
       "        [  0,   4,  11],\n",
       "        [  0,   5,  12]]], dtype=uint8)"
      ]
     },
     "execution_count": 52,
     "metadata": {},
     "output_type": "execute_result"
    }
   ],
   "source": [
    "cv2.line(img, (350, 100), (400, 100), (255,0, 0), 5)"
   ]
  },
  {
   "cell_type": "code",
   "execution_count": 53,
   "id": "3073c211-e2e5-4583-bffe-fc71364f5785",
   "metadata": {},
   "outputs": [
    {
     "data": {
      "text/plain": [
       "array([[[247, 250, 235],\n",
       "        [236, 244, 237],\n",
       "        [232, 245, 237],\n",
       "        ...,\n",
       "        [116,  80,  20],\n",
       "        [ 90,  54,   0],\n",
       "        [100,  57,   0]],\n",
       "\n",
       "       [[232, 238, 249],\n",
       "        [227, 233, 244],\n",
       "        [232, 236, 241],\n",
       "        ...,\n",
       "        [148, 101,  19],\n",
       "        [117,  70,   0],\n",
       "        [120,  71,   0]],\n",
       "\n",
       "       [[213, 219, 230],\n",
       "        [216, 222, 233],\n",
       "        [205, 209, 214],\n",
       "        ...,\n",
       "        [161, 114,  32],\n",
       "        [127,  80,   0],\n",
       "        [126,  77,   0]],\n",
       "\n",
       "       ...,\n",
       "\n",
       "       [[ 25,  74, 118],\n",
       "        [ 30,  79, 123],\n",
       "        [ 28,  78, 124],\n",
       "        ...,\n",
       "        [  1,   5,  10],\n",
       "        [  2,   4,  14],\n",
       "        [  0,   5,  12]],\n",
       "\n",
       "       [[ 24,  73, 117],\n",
       "        [ 29,  78, 122],\n",
       "        [ 28,  78, 124],\n",
       "        ...,\n",
       "        [  0,   3,  10],\n",
       "        [  0,   6,  13],\n",
       "        [  0,   6,  13]],\n",
       "\n",
       "       [[ 24,  73, 117],\n",
       "        [ 30,  79, 123],\n",
       "        [ 26,  76, 122],\n",
       "        ...,\n",
       "        [  0,   0,   6],\n",
       "        [  0,   4,  11],\n",
       "        [  0,   5,  12]]], dtype=uint8)"
      ]
     },
     "execution_count": 53,
     "metadata": {},
     "output_type": "execute_result"
    }
   ],
   "source": [
    "cv2.putText(img, 'opencv', (450,100), cv2.FONT_HERSHEY_SIMPLEX, 1, (255,255,255) ,5)"
   ]
  },
  {
   "cell_type": "code",
   "execution_count": 54,
   "id": "ca16e2bb-ed96-486b-a4e0-aa73711b5166",
   "metadata": {},
   "outputs": [],
   "source": [
    "cv2.imshow(\"nomadProgramer - draw\" ,img)"
   ]
  },
  {
   "cell_type": "code",
   "execution_count": 55,
   "id": "5cfd217d-e135-439d-aba6-a24a198c4e89",
   "metadata": {},
   "outputs": [],
   "source": [
    "cv2.waitKey(0)\n",
    "cv2.destroyAllWindows()"
   ]
  },
  {
   "cell_type": "code",
   "execution_count": null,
   "id": "15f7f187-bb43-42db-8e9a-7d35f79b88b1",
   "metadata": {},
   "outputs": [],
   "source": []
  }
 ],
 "metadata": {
  "kernelspec": {
   "display_name": "Python 3 (ipykernel)",
   "language": "python",
   "name": "python3"
  },
  "language_info": {
   "codemirror_mode": {
    "name": "ipython",
    "version": 3
   },
   "file_extension": ".py",
   "mimetype": "text/x-python",
   "name": "python",
   "nbconvert_exporter": "python",
   "pygments_lexer": "ipython3",
   "version": "3.12.2"
  }
 },
 "nbformat": 4,
 "nbformat_minor": 5
}
