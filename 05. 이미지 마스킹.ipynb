{
 "cells": [
  {
   "cell_type": "code",
   "execution_count": 28,
   "id": "f21f7b22-011f-43ef-aca1-002d239efe3b",
   "metadata": {},
   "outputs": [],
   "source": [
    "import cv2\n",
    "import numpy as np"
   ]
  },
  {
   "cell_type": "code",
   "execution_count": 29,
   "id": "8eea3777-a384-4c1e-a276-adeff4fc15a2",
   "metadata": {},
   "outputs": [
    {
     "name": "stdout",
     "output_type": "stream",
     "text": [
      "4.9.0\n"
     ]
    }
   ],
   "source": [
    "print(cv2.__version__)"
   ]
  },
  {
   "cell_type": "code",
   "execution_count": 30,
   "id": "a3b6d4e8-bfe8-4bb0-9ba5-6aeb2b3b11c4",
   "metadata": {},
   "outputs": [],
   "source": [
    "img = cv2.imread(\"nomadProgramerIcon.png\")"
   ]
  },
  {
   "cell_type": "code",
   "execution_count": 31,
   "id": "f48256f2-bc7c-4514-82de-2f5288bb097f",
   "metadata": {},
   "outputs": [
    {
     "name": "stdout",
     "output_type": "stream",
     "text": [
      "width: 653 pixels\n",
      "height: 653 pixels\n",
      "channels: 3 \n"
     ]
    }
   ],
   "source": [
    "print(\"width: {} pixels\".format(img.shape[1]))\n",
    "print(\"height: {} pixels\".format(img.shape[0]))\n",
    "print(\"channels: {} \".format(img.shape[2]))"
   ]
  },
  {
   "cell_type": "code",
   "execution_count": 32,
   "id": "c7da705b-0637-4129-b21f-b148f3409c62",
   "metadata": {},
   "outputs": [],
   "source": [
    "(height, width) = img.shape[:2]\n",
    "center = (width // 2, height // 2)"
   ]
  },
  {
   "cell_type": "code",
   "execution_count": 33,
   "id": "55e3558e-942f-4e4c-8496-6687c04a7d5e",
   "metadata": {},
   "outputs": [],
   "source": [
    "cv2.imshow(\"nomadProgramer\", img)"
   ]
  },
  {
   "cell_type": "code",
   "execution_count": 34,
   "id": "0d45dbe0-0ff9-4e63-8814-6c1183bff344",
   "metadata": {},
   "outputs": [],
   "source": [
    "mask = np.zeros(img.shape[:2], dtype = \"uint8\")\n",
    "# 해당영역에 zero 값으로 채움"
   ]
  },
  {
   "cell_type": "code",
   "execution_count": 35,
   "id": "11a89e7a-be26-4186-a4ec-747ccef2e980",
   "metadata": {},
   "outputs": [],
   "source": [
    "cv2.circle(mask, center, 200, (255,255,255), -1)\n",
    "cv2.imshow(\"mask\", mask)\n",
    "\n",
    "# 합치기 전 마스크 출력"
   ]
  },
  {
   "cell_type": "code",
   "execution_count": 36,
   "id": "da244a1c-ef84-4799-aa0c-b727f55c0e91",
   "metadata": {},
   "outputs": [],
   "source": [
    "# 합치기\n",
    "masked = cv2.bitwise_and(img, img, mask = mask)\n",
    "cv2.imshow(\"nomadProgramer with mask\", masked)"
   ]
  },
  {
   "cell_type": "code",
   "execution_count": 37,
   "id": "30be5979-820c-435f-80f6-dde0e4d4b2ef",
   "metadata": {},
   "outputs": [],
   "source": [
    "cv2.waitKey(0)\n",
    "cv2.destroyAllWindows()"
   ]
  }
 ],
 "metadata": {
  "kernelspec": {
   "display_name": "Python 3 (ipykernel)",
   "language": "python",
   "name": "python3"
  },
  "language_info": {
   "codemirror_mode": {
    "name": "ipython",
    "version": 3
   },
   "file_extension": ".py",
   "mimetype": "text/x-python",
   "name": "python",
   "nbconvert_exporter": "python",
   "pygments_lexer": "ipython3",
   "version": "3.12.2"
  }
 },
 "nbformat": 4,
 "nbformat_minor": 5
}
