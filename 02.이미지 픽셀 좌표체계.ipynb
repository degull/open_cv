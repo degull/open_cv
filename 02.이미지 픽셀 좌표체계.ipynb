{
 "cells": [
  {
   "cell_type": "code",
   "execution_count": 12,
   "id": "19ac5df5-2373-4d8c-9f10-63dfd1c41c70",
   "metadata": {},
   "outputs": [],
   "source": [
    "import cv2"
   ]
  },
  {
   "cell_type": "code",
   "execution_count": 13,
   "id": "0bc4be82-06f0-4b0b-a412-a10f39703f16",
   "metadata": {},
   "outputs": [
    {
     "name": "stdout",
     "output_type": "stream",
     "text": [
      "4.9.0\n"
     ]
    }
   ],
   "source": [
    "print(cv2.__version__)"
   ]
  },
  {
   "cell_type": "code",
   "execution_count": 14,
   "id": "448a5caf-530f-436a-ad4c-48258bee3e2f",
   "metadata": {},
   "outputs": [],
   "source": [
    "img = cv2.imread(\"nomadProgramerIcon.png\")"
   ]
  },
  {
   "cell_type": "code",
   "execution_count": 15,
   "id": "bfc951fd-fe87-4cdc-9024-ae573d9ca84e",
   "metadata": {},
   "outputs": [
    {
     "name": "stdout",
     "output_type": "stream",
     "text": [
      "width: 653 pixels\n",
      "height: 653 pixels\n",
      "channels: 3 \n"
     ]
    }
   ],
   "source": [
    "print(\"width: {} pixels\".format(img.shape[1]))\n",
    "print(\"height: {} pixels\".format(img.shape[0]))\n",
    "print(\"channels: {} \".format(img.shape[2]))"
   ]
  },
  {
   "cell_type": "code",
   "execution_count": 16,
   "id": "6b969a8e-1855-47c9-8ba6-f9fdcd83815e",
   "metadata": {},
   "outputs": [],
   "source": [
    "cv2.imshow(\"nomadProgramer\", img)"
   ]
  },
  {
   "cell_type": "code",
   "execution_count": 17,
   "id": "41816c5a-10fd-4abd-afe7-a9353d0312c7",
   "metadata": {},
   "outputs": [],
   "source": [
    "cv2.waitKey(0)\n",
    "cv2.imwrite(\"nomadProgramerIcon.jpg\", img)\n",
    "cv2.destroyAllWindows()"
   ]
  },
  {
   "cell_type": "code",
   "execution_count": null,
   "id": "df96a8af-4bd3-49cf-adb1-1157def109d7",
   "metadata": {},
   "outputs": [],
   "source": []
  },
  {
   "cell_type": "code",
   "execution_count": null,
   "id": "c64dcdea-b57e-4316-b474-68874a659910",
   "metadata": {},
   "outputs": [],
   "source": []
  },
  {
   "cell_type": "code",
   "execution_count": null,
   "id": "f5b8f89d-c211-49ca-bde5-e961f3c44cf9",
   "metadata": {},
   "outputs": [],
   "source": []
  }
 ],
 "metadata": {
  "kernelspec": {
   "display_name": "Python 3 (ipykernel)",
   "language": "python",
   "name": "python3"
  },
  "language_info": {
   "codemirror_mode": {
    "name": "ipython",
    "version": 3
   },
   "file_extension": ".py",
   "mimetype": "text/x-python",
   "name": "python",
   "nbconvert_exporter": "python",
   "pygments_lexer": "ipython3",
   "version": "3.12.2"
  }
 },
 "nbformat": 4,
 "nbformat_minor": 5
}
