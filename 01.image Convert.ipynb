{
 "cells": [
  {
   "cell_type": "code",
   "execution_count": 7,
   "id": "86f2fe10-3386-424c-a0e6-3fa1148f9585",
   "metadata": {},
   "outputs": [],
   "source": [
    "import cv2"
   ]
  },
  {
   "cell_type": "code",
   "execution_count": 8,
   "id": "708ee94d-49c4-4c53-9cc8-4a64f817592a",
   "metadata": {},
   "outputs": [],
   "source": [
    "import numpy as np"
   ]
  },
  {
   "cell_type": "code",
   "execution_count": 9,
   "id": "3f57be27-080b-4128-b76c-090e30b425e9",
   "metadata": {},
   "outputs": [
    {
     "name": "stdout",
     "output_type": "stream",
     "text": [
      "openCV version : \n",
      "4.9.0\n"
     ]
    }
   ],
   "source": [
    "print(\"openCV version : \")\n",
    "print(cv2.__version__)"
   ]
  },
  {
   "cell_type": "code",
   "execution_count": 10,
   "id": "d62660af-ca9c-437a-be43-53dd70b0682b",
   "metadata": {},
   "outputs": [],
   "source": [
    "img = cv2.imread(\"nomadProgramerIcon.png\")\n"
   ]
  },
  {
   "cell_type": "code",
   "execution_count": 11,
   "id": "d5b8f833-0ed5-41c6-a997-2e2258d86869",
   "metadata": {},
   "outputs": [],
   "source": [
    "gray = cv2.cvtColor(img, cv2.COLOR_BGR2GRAY)"
   ]
  },
  {
   "cell_type": "code",
   "execution_count": 12,
   "id": "d93f914f-f24f-4e5f-bbfc-9766bea78d31",
   "metadata": {},
   "outputs": [],
   "source": [
    "cv2.imshow(\"nomadProgramer\", img)\n",
    "cv2.imshow(\"nomadProgramer - gray\", gray)\n",
    " \n",
    "cv2.waitKey(0)\n",
    "cv2.destroyAllWindows()"
   ]
  },
  {
   "cell_type": "code",
   "execution_count": null,
   "id": "1d5481e7-e3cc-4a95-8763-043e00c34c2f",
   "metadata": {},
   "outputs": [],
   "source": []
  }
 ],
 "metadata": {
  "kernelspec": {
   "display_name": "Python 3 (ipykernel)",
   "language": "python",
   "name": "python3"
  },
  "language_info": {
   "codemirror_mode": {
    "name": "ipython",
    "version": 3
   },
   "file_extension": ".py",
   "mimetype": "text/x-python",
   "name": "python",
   "nbconvert_exporter": "python",
   "pygments_lexer": "ipython3",
   "version": "3.12.2"
  }
 },
 "nbformat": 4,
 "nbformat_minor": 5
}
